{
 "cells": [
  {
   "cell_type": "markdown",
   "metadata": {},
   "source": [
    "# Learning about Jupyter in Jupyter Notebooks 🎉"
   ]
  },
  {
   "cell_type": "markdown",
   "metadata": {},
   "source": [
    "As always, good to start with some imports.\n",
    "For this demo, we will be using `ghapi`, `pandas`, `numpy`, and `matplotlib` (oh my!) "
   ]
  },
  {
   "cell_type": "code",
   "execution_count": 3,
   "metadata": {},
   "outputs": [],
   "source": [
    "from ghapi.all import GhApi, paged\n",
    "import pandas as pd\n",
    "import numpy as np\n",
    "import matplotlib.pyplot as plt\n",
    "%matplotlib inline"
   ]
  },
  {
   "cell_type": "markdown",
   "metadata": {},
   "source": [
    "First, we need to create an instance of the API class."
   ]
  },
  {
   "cell_type": "code",
   "execution_count": 4,
   "metadata": {},
   "outputs": [],
   "source": [
    "api = GhApi()\n"
   ]
  },
  {
   "cell_type": "markdown",
   "metadata": {},
   "source": [
    "Let's call the GitHub API and store the results as a list.\n",
    "The API results are paged, as some of the data you might ask for could be very long, so we just nest a list comprehension to \"flip\" through the pages."
   ]
  },
  {
   "cell_type": "code",
   "execution_count": null,
   "metadata": {},
   "outputs": [],
   "source": [
    "api_data = paged(api.repos.list_for_org, org=\"jupyter\")  # type: ignore\n",
    "jupyter_repos = [r for page in api_data for r in page]"
   ]
  },
  {
   "cell_type": "markdown",
   "metadata": {},
   "source": [
    "## Process and clean the data with `pandas`"
   ]
  },
  {
   "cell_type": "markdown",
   "metadata": {},
   "source": [
    "Lists of dictionaries are ok, but let's make that a `pd.DataFrame` so we can more easily work with the data.\n",
    "Here is also where we can reduce the size of our data by picking out the interesting bits."
   ]
  },
  {
   "cell_type": "code",
   "execution_count": null,
   "metadata": {},
   "outputs": [],
   "source": [
    "interesting_info = [\n",
    "    \"name\",\n",
    "    \"html_url\",\n",
    "    \"description\",\n",
    "    \"homepage\",\n",
    "    \"size\",\n",
    "    \"stargazers_count\",\n",
    "    \"watchers_count\",\n",
    "    \"language\",\n",
    "    \"forks_count\",\n",
    "    \"open_issues_count\",\n",
    "    \"license\",\n",
    "    \"topics\",\n",
    "    \"default_branch\",\n",
    "]\n",
    "\n",
    "jupyter_df = pd.DataFrame(jupyter_repos, columns=interesting_info)"
   ]
  },
  {
   "cell_type": "markdown",
   "metadata": {},
   "source": [
    "Now that the DataFrame is loaded, we can use the variable inspector in VS Code to look at the values, even better than printing out the value here.\n",
    "\n",
    "Let's also use some other tools to explore the data a bit."
   ]
  },
  {
   "cell_type": "code",
   "execution_count": null,
   "metadata": {},
   "outputs": [],
   "source": [
    "# Show stats about numeric columns in the DataFrame\n",
    "jupyter_df.describe()"
   ]
  },
  {
   "cell_type": "code",
   "execution_count": null,
   "metadata": {},
   "outputs": [],
   "source": [
    "jupyter_df.info()"
   ]
  },
  {
   "cell_type": "code",
   "execution_count": null,
   "metadata": {},
   "outputs": [],
   "source": [
    "# The license column is an object, but how can we extract the license info..."
   ]
  },
  {
   "cell_type": "markdown",
   "metadata": {},
   "source": [
    "The license column has dictionary values that would be nice to split out, and get rid of unnecessary info. We can use the autoDocstring extension to help us document the function, and inlay hints can help show inferred missing type hints."
   ]
  },
  {
   "cell_type": "code",
   "execution_count": null,
   "metadata": {},
   "outputs": [],
   "source": [
    "def format_dict_column(data : pd.DataFrame, column : str, mapping : dict):\n",
    "    split_df = pd.json_normalize(data.loc[:,column]).rename(columns = mapping)  # type: ignore\n",
    "    return data.drop(column, axis=1).join(split_df.loc[:,list(mapping.values())])\n",
    "\n",
    "jupyter_df_clean = format_dict_column(jupyter_df, \"license\", {\"key\" : \"license_key\", \"name\" : \"license_name\", \"url\" : \"license_url\"})"
   ]
  },
  {
   "cell_type": "code",
   "execution_count": null,
   "metadata": {},
   "outputs": [],
   "source": [
    "import pandas_profiling\n",
    "# If you only want to look at numeric columns, you can use the following to filter the DataFrame\n",
    "# df_numeric = jupyter_df_clean.select_dtypes(include=np.int64)\n",
    "pandas_profiling.ProfileReport(jupyter_df_clean)# can use minimal=True to reduce output\n"
   ]
  },
  {
   "cell_type": "markdown",
   "metadata": {},
   "source": [
    "## Visualizations"
   ]
  },
  {
   "cell_type": "code",
   "execution_count": null,
   "metadata": {},
   "outputs": [],
   "source": [
    "language_totals = jupyter_df_clean.groupby(\"language\").sum().sort_values(\"stargazers_count\", ascending=False)"
   ]
  },
  {
   "cell_type": "code",
   "execution_count": null,
   "metadata": {},
   "outputs": [],
   "source": [
    "language_totals.plot.barh(figsize=(20, 10), fontsize=20)"
   ]
  },
  {
   "cell_type": "markdown",
   "metadata": {},
   "source": [
    "---\n",
    "## Utility"
   ]
  },
  {
   "cell_type": "markdown",
   "metadata": {},
   "source": [
    "Check you GitHub API limits:"
   ]
  },
  {
   "cell_type": "code",
   "execution_count": 5,
   "metadata": {},
   "outputs": [
    {
     "data": {
      "text/markdown": [
       "```json\n",
       "{ 'rate': { 'limit': 60,\n",
       "            'remaining': 52,\n",
       "            'reset': 1663372661,\n",
       "            'resource': 'core',\n",
       "            'used': 8},\n",
       "  'resources': { 'core': { 'limit': 60,\n",
       "                           'remaining': 52,\n",
       "                           'reset': 1663372661,\n",
       "                           'resource': 'core',\n",
       "                           'used': 8},\n",
       "                 'graphql': { 'limit': 0,\n",
       "                              'remaining': 0,\n",
       "                              'reset': 1663376173,\n",
       "                              'resource': 'graphql',\n",
       "                              'used': 0},\n",
       "                 'integration_manifest': { 'limit': 5000,\n",
       "                                           'remaining': 5000,\n",
       "                                           'reset': 1663376173,\n",
       "                                           'resource': 'integration_manifest',\n",
       "                                           'used': 0},\n",
       "                 'search': { 'limit': 10,\n",
       "                             'remaining': 10,\n",
       "                             'reset': 1663372633,\n",
       "                             'resource': 'search',\n",
       "                             'used': 0}}}\n",
       "```"
      ],
      "text/plain": [
       "{'resources': {'core': {'limit': 60,\n",
       "   'remaining': 52,\n",
       "   'reset': 1663372661,\n",
       "   'used': 8,\n",
       "   'resource': 'core'},\n",
       "  'graphql': {'limit': 0,\n",
       "   'remaining': 0,\n",
       "   'reset': 1663376173,\n",
       "   'used': 0,\n",
       "   'resource': 'graphql'},\n",
       "  'integration_manifest': {'limit': 5000,\n",
       "   'remaining': 5000,\n",
       "   'reset': 1663376173,\n",
       "   'used': 0,\n",
       "   'resource': 'integration_manifest'},\n",
       "  'search': {'limit': 10,\n",
       "   'remaining': 10,\n",
       "   'reset': 1663372633,\n",
       "   'used': 0,\n",
       "   'resource': 'search'}},\n",
       " 'rate': {'limit': 60,\n",
       "  'remaining': 52,\n",
       "  'reset': 1663372661,\n",
       "  'used': 8,\n",
       "  'resource': 'core'}}"
      ]
     },
     "execution_count": 5,
     "metadata": {},
     "output_type": "execute_result"
    }
   ],
   "source": [
    "api.rate_limit.get()  # type: ignore"
   ]
  },
  {
   "cell_type": "markdown",
   "metadata": {},
   "source": [
    "If the API limit is reached, load from included csv:"
   ]
  },
  {
   "cell_type": "code",
   "execution_count": 6,
   "metadata": {},
   "outputs": [
    {
     "data": {
      "text/html": [
       "<div>\n",
       "<style scoped>\n",
       "    .dataframe tbody tr th:only-of-type {\n",
       "        vertical-align: middle;\n",
       "    }\n",
       "\n",
       "    .dataframe tbody tr th {\n",
       "        vertical-align: top;\n",
       "    }\n",
       "\n",
       "    .dataframe thead th {\n",
       "        text-align: right;\n",
       "    }\n",
       "</style>\n",
       "<table border=\"1\" class=\"dataframe\">\n",
       "  <thead>\n",
       "    <tr style=\"text-align: right;\">\n",
       "      <th></th>\n",
       "      <th>Unnamed: 0</th>\n",
       "      <th>name</th>\n",
       "      <th>html_url</th>\n",
       "      <th>description</th>\n",
       "      <th>homepage</th>\n",
       "      <th>size</th>\n",
       "      <th>stargazers_count</th>\n",
       "      <th>watchers_count</th>\n",
       "      <th>language</th>\n",
       "      <th>forks_count</th>\n",
       "      <th>open_issues_count</th>\n",
       "      <th>license</th>\n",
       "      <th>topics</th>\n",
       "      <th>default_branch</th>\n",
       "    </tr>\n",
       "  </thead>\n",
       "  <tbody>\n",
       "    <tr>\n",
       "      <th>0</th>\n",
       "      <td>0</td>\n",
       "      <td>nbviewer</td>\n",
       "      <td>https://github.com/jupyter/nbviewer</td>\n",
       "      <td>nbconvert as a web service: Render Jupyter Not...</td>\n",
       "      <td>https://nbviewer.jupyter.org</td>\n",
       "      <td>12473</td>\n",
       "      <td>2015</td>\n",
       "      <td>2015</td>\n",
       "      <td>Python</td>\n",
       "      <td>523</td>\n",
       "      <td>171</td>\n",
       "      <td>{'key': 'other', 'name': 'Other', 'spdx_id': '...</td>\n",
       "      <td>['jupyter', 'jupyter-notebook', 'nbconvert']</td>\n",
       "      <td>main</td>\n",
       "    </tr>\n",
       "    <tr>\n",
       "      <th>1</th>\n",
       "      <td>1</td>\n",
       "      <td>nbconvert-examples</td>\n",
       "      <td>https://github.com/jupyter/nbconvert-examples</td>\n",
       "      <td>Examples that illustrate how nbconvert can be ...</td>\n",
       "      <td>NaN</td>\n",
       "      <td>1678</td>\n",
       "      <td>149</td>\n",
       "      <td>149</td>\n",
       "      <td>Jupyter Notebook</td>\n",
       "      <td>82</td>\n",
       "      <td>9</td>\n",
       "      <td>{'key': 'bsd-3-clause', 'name': 'BSD 3-Clause ...</td>\n",
       "      <td>[]</td>\n",
       "      <td>master</td>\n",
       "    </tr>\n",
       "    <tr>\n",
       "      <th>2</th>\n",
       "      <td>2</td>\n",
       "      <td>colaboratory</td>\n",
       "      <td>https://github.com/jupyter/colaboratory</td>\n",
       "      <td>[deprecated] Jupyter CoLaboratory, goto google...</td>\n",
       "      <td>https://colab.research.google.com</td>\n",
       "      <td>1063</td>\n",
       "      <td>734</td>\n",
       "      <td>734</td>\n",
       "      <td>JavaScript</td>\n",
       "      <td>126</td>\n",
       "      <td>0</td>\n",
       "      <td>{'key': 'bsd-3-clause', 'name': 'BSD 3-Clause ...</td>\n",
       "      <td>[]</td>\n",
       "      <td>master</td>\n",
       "    </tr>\n",
       "    <tr>\n",
       "      <th>3</th>\n",
       "      <td>3</td>\n",
       "      <td>jupyter.github.io</td>\n",
       "      <td>https://github.com/jupyter/jupyter.github.io</td>\n",
       "      <td>Project Jupyter's home on the World Wide Web</td>\n",
       "      <td>https://jupyter.org</td>\n",
       "      <td>28975</td>\n",
       "      <td>154</td>\n",
       "      <td>154</td>\n",
       "      <td>HTML</td>\n",
       "      <td>157</td>\n",
       "      <td>18</td>\n",
       "      <td>{'key': 'bsd-3-clause', 'name': 'BSD 3-Clause ...</td>\n",
       "      <td>['homepage', 'jekyll', 'jupyter', 'jupyter-not...</td>\n",
       "      <td>master</td>\n",
       "    </tr>\n",
       "    <tr>\n",
       "      <th>4</th>\n",
       "      <td>4</td>\n",
       "      <td>design</td>\n",
       "      <td>https://github.com/jupyter/design</td>\n",
       "      <td>Design related materials for Project Jupyter</td>\n",
       "      <td>NaN</td>\n",
       "      <td>52446</td>\n",
       "      <td>77</td>\n",
       "      <td>77</td>\n",
       "      <td>HTML</td>\n",
       "      <td>57</td>\n",
       "      <td>18</td>\n",
       "      <td>{'key': 'bsd-3-clause', 'name': 'BSD 3-Clause ...</td>\n",
       "      <td>[]</td>\n",
       "      <td>master</td>\n",
       "    </tr>\n",
       "    <tr>\n",
       "      <th>...</th>\n",
       "      <td>...</td>\n",
       "      <td>...</td>\n",
       "      <td>...</td>\n",
       "      <td>...</td>\n",
       "      <td>...</td>\n",
       "      <td>...</td>\n",
       "      <td>...</td>\n",
       "      <td>...</td>\n",
       "      <td>...</td>\n",
       "      <td>...</td>\n",
       "      <td>...</td>\n",
       "      <td>...</td>\n",
       "      <td>...</td>\n",
       "      <td>...</td>\n",
       "    </tr>\n",
       "    <tr>\n",
       "      <th>77</th>\n",
       "      <td>77</td>\n",
       "      <td>notebook_shim</td>\n",
       "      <td>https://github.com/jupyter/notebook_shim</td>\n",
       "      <td>A shim layer for notebook traits and config</td>\n",
       "      <td>NaN</td>\n",
       "      <td>30</td>\n",
       "      <td>3</td>\n",
       "      <td>3</td>\n",
       "      <td>Python</td>\n",
       "      <td>8</td>\n",
       "      <td>2</td>\n",
       "      <td>{'key': 'bsd-3-clause', 'name': 'BSD 3-Clause ...</td>\n",
       "      <td>[]</td>\n",
       "      <td>main</td>\n",
       "    </tr>\n",
       "    <tr>\n",
       "      <th>78</th>\n",
       "      <td>78</td>\n",
       "      <td>try-jupyter</td>\n",
       "      <td>https://github.com/jupyter/try-jupyter</td>\n",
       "      <td>A JupyterLite deployment to try JupyterLab, Ju...</td>\n",
       "      <td>https://jupyter.org/try-jupyter</td>\n",
       "      <td>39963</td>\n",
       "      <td>4</td>\n",
       "      <td>4</td>\n",
       "      <td>Jupyter Notebook</td>\n",
       "      <td>10</td>\n",
       "      <td>2</td>\n",
       "      <td>NaN</td>\n",
       "      <td>['ipython', 'jupyter', 'jupyterlab']</td>\n",
       "      <td>main</td>\n",
       "    </tr>\n",
       "    <tr>\n",
       "      <th>79</th>\n",
       "      <td>79</td>\n",
       "      <td>team-compass-template</td>\n",
       "      <td>https://github.com/jupyter/team-compass-template</td>\n",
       "      <td>A template for team-compass repositories</td>\n",
       "      <td>NaN</td>\n",
       "      <td>46</td>\n",
       "      <td>0</td>\n",
       "      <td>0</td>\n",
       "      <td>Python</td>\n",
       "      <td>2</td>\n",
       "      <td>1</td>\n",
       "      <td>{'key': 'bsd-3-clause', 'name': 'BSD 3-Clause ...</td>\n",
       "      <td>[]</td>\n",
       "      <td>main</td>\n",
       "    </tr>\n",
       "    <tr>\n",
       "      <th>80</th>\n",
       "      <td>80</td>\n",
       "      <td>kernels-team-compass</td>\n",
       "      <td>https://github.com/jupyter/kernels-team-compass</td>\n",
       "      <td>The team-compass for the Jupyter Kernels Subpr...</td>\n",
       "      <td>https://kernels-team-compass.readthedocs.io/en...</td>\n",
       "      <td>22</td>\n",
       "      <td>2</td>\n",
       "      <td>2</td>\n",
       "      <td>NaN</td>\n",
       "      <td>2</td>\n",
       "      <td>0</td>\n",
       "      <td>{'key': 'bsd-3-clause', 'name': 'BSD 3-Clause ...</td>\n",
       "      <td>[]</td>\n",
       "      <td>main</td>\n",
       "    </tr>\n",
       "    <tr>\n",
       "      <th>81</th>\n",
       "      <td>81</td>\n",
       "      <td>jupyter_events</td>\n",
       "      <td>https://github.com/jupyter/jupyter_events</td>\n",
       "      <td>Configurable event system for Jupyter applicat...</td>\n",
       "      <td>https://jupyter-events.readthedocs.io/en/latest/</td>\n",
       "      <td>320</td>\n",
       "      <td>4</td>\n",
       "      <td>4</td>\n",
       "      <td>Python</td>\n",
       "      <td>5</td>\n",
       "      <td>1</td>\n",
       "      <td>{'key': 'other', 'name': 'Other', 'spdx_id': '...</td>\n",
       "      <td>[]</td>\n",
       "      <td>main</td>\n",
       "    </tr>\n",
       "  </tbody>\n",
       "</table>\n",
       "<p>82 rows × 14 columns</p>\n",
       "</div>"
      ],
      "text/plain": [
       "    Unnamed: 0                   name  \\\n",
       "0            0               nbviewer   \n",
       "1            1     nbconvert-examples   \n",
       "2            2           colaboratory   \n",
       "3            3      jupyter.github.io   \n",
       "4            4                 design   \n",
       "..         ...                    ...   \n",
       "77          77          notebook_shim   \n",
       "78          78            try-jupyter   \n",
       "79          79  team-compass-template   \n",
       "80          80   kernels-team-compass   \n",
       "81          81         jupyter_events   \n",
       "\n",
       "                                            html_url  \\\n",
       "0                https://github.com/jupyter/nbviewer   \n",
       "1      https://github.com/jupyter/nbconvert-examples   \n",
       "2            https://github.com/jupyter/colaboratory   \n",
       "3       https://github.com/jupyter/jupyter.github.io   \n",
       "4                  https://github.com/jupyter/design   \n",
       "..                                               ...   \n",
       "77          https://github.com/jupyter/notebook_shim   \n",
       "78            https://github.com/jupyter/try-jupyter   \n",
       "79  https://github.com/jupyter/team-compass-template   \n",
       "80   https://github.com/jupyter/kernels-team-compass   \n",
       "81         https://github.com/jupyter/jupyter_events   \n",
       "\n",
       "                                          description  \\\n",
       "0   nbconvert as a web service: Render Jupyter Not...   \n",
       "1   Examples that illustrate how nbconvert can be ...   \n",
       "2   [deprecated] Jupyter CoLaboratory, goto google...   \n",
       "3        Project Jupyter's home on the World Wide Web   \n",
       "4        Design related materials for Project Jupyter   \n",
       "..                                                ...   \n",
       "77        A shim layer for notebook traits and config   \n",
       "78  A JupyterLite deployment to try JupyterLab, Ju...   \n",
       "79           A template for team-compass repositories   \n",
       "80  The team-compass for the Jupyter Kernels Subpr...   \n",
       "81  Configurable event system for Jupyter applicat...   \n",
       "\n",
       "                                             homepage   size  \\\n",
       "0                        https://nbviewer.jupyter.org  12473   \n",
       "1                                                 NaN   1678   \n",
       "2                   https://colab.research.google.com   1063   \n",
       "3                                 https://jupyter.org  28975   \n",
       "4                                                 NaN  52446   \n",
       "..                                                ...    ...   \n",
       "77                                                NaN     30   \n",
       "78                    https://jupyter.org/try-jupyter  39963   \n",
       "79                                                NaN     46   \n",
       "80  https://kernels-team-compass.readthedocs.io/en...     22   \n",
       "81   https://jupyter-events.readthedocs.io/en/latest/    320   \n",
       "\n",
       "    stargazers_count  watchers_count          language  forks_count  \\\n",
       "0               2015            2015            Python          523   \n",
       "1                149             149  Jupyter Notebook           82   \n",
       "2                734             734        JavaScript          126   \n",
       "3                154             154              HTML          157   \n",
       "4                 77              77              HTML           57   \n",
       "..               ...             ...               ...          ...   \n",
       "77                 3               3            Python            8   \n",
       "78                 4               4  Jupyter Notebook           10   \n",
       "79                 0               0            Python            2   \n",
       "80                 2               2               NaN            2   \n",
       "81                 4               4            Python            5   \n",
       "\n",
       "    open_issues_count                                            license  \\\n",
       "0                 171  {'key': 'other', 'name': 'Other', 'spdx_id': '...   \n",
       "1                   9  {'key': 'bsd-3-clause', 'name': 'BSD 3-Clause ...   \n",
       "2                   0  {'key': 'bsd-3-clause', 'name': 'BSD 3-Clause ...   \n",
       "3                  18  {'key': 'bsd-3-clause', 'name': 'BSD 3-Clause ...   \n",
       "4                  18  {'key': 'bsd-3-clause', 'name': 'BSD 3-Clause ...   \n",
       "..                ...                                                ...   \n",
       "77                  2  {'key': 'bsd-3-clause', 'name': 'BSD 3-Clause ...   \n",
       "78                  2                                                NaN   \n",
       "79                  1  {'key': 'bsd-3-clause', 'name': 'BSD 3-Clause ...   \n",
       "80                  0  {'key': 'bsd-3-clause', 'name': 'BSD 3-Clause ...   \n",
       "81                  1  {'key': 'other', 'name': 'Other', 'spdx_id': '...   \n",
       "\n",
       "                                               topics default_branch  \n",
       "0        ['jupyter', 'jupyter-notebook', 'nbconvert']           main  \n",
       "1                                                  []         master  \n",
       "2                                                  []         master  \n",
       "3   ['homepage', 'jekyll', 'jupyter', 'jupyter-not...         master  \n",
       "4                                                  []         master  \n",
       "..                                                ...            ...  \n",
       "77                                                 []           main  \n",
       "78               ['ipython', 'jupyter', 'jupyterlab']           main  \n",
       "79                                                 []           main  \n",
       "80                                                 []           main  \n",
       "81                                                 []           main  \n",
       "\n",
       "[82 rows x 14 columns]"
      ]
     },
     "execution_count": 6,
     "metadata": {},
     "output_type": "execute_result"
    }
   ],
   "source": [
    "# If you need to export the DataFrame to a csv file, you can use the following\n",
    "# df.to_csv(\"jupyter_repos.csv\")\n",
    "pd.read_csv(\"jupyter_repos.csv\")"
   ]
  }
 ],
 "metadata": {
  "kernelspec": {
   "display_name": "Python 3.9.12 ('base')",
   "language": "python",
   "name": "python3"
  },
  "language_info": {
   "codemirror_mode": {
    "name": "ipython",
    "version": 3
   },
   "file_extension": ".py",
   "mimetype": "text/x-python",
   "name": "python",
   "nbconvert_exporter": "python",
   "pygments_lexer": "ipython3",
   "version": "3.9.12"
  },
  "orig_nbformat": 4,
  "vscode": {
   "interpreter": {
    "hash": "59ab940de6a88446ed724696325dabd57303f9020f00f9df9b08c2027b4df88a"
   }
  }
 },
 "nbformat": 4,
 "nbformat_minor": 2
}
