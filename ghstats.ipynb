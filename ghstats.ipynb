{
 "cells": [
  {
   "cell_type": "markdown",
   "metadata": {},
   "source": [
    "# Learning about Jupyter in Jupyter Notebooks 🎉"
   ]
  },
  {
   "cell_type": "markdown",
   "metadata": {},
   "source": [
    "As always, good to start with some imports.\n",
    "For this demo, we will be using `ghapi`, `pandas`, `numpy`, and `matplotlib` (oh my!) "
   ]
  },
  {
   "cell_type": "code",
   "execution_count": null,
   "metadata": {},
   "outputs": [],
   "source": [
    "from ghapi.all import GhApi, paged, GhDeviceAuth\n",
    "import pandas as pd\n",
    "import numpy as np\n",
    "import matplotlib.pyplot as plt\n",
    "%matplotlib inline"
   ]
  },
  {
   "cell_type": "markdown",
   "metadata": {},
   "source": [
    "First, we need to create an instance of the API class."
   ]
  },
  {
   "cell_type": "code",
   "execution_count": null,
   "metadata": {},
   "outputs": [],
   "source": [
    "# If you need to setup an api key for higher rate limits, uncomment the following lines and run them once\n",
    "# ghauth = GhDeviceAuth()\n",
    "# print(ghauth.url_docs())\n",
    "# ghauth.open_browser()"
   ]
  },
  {
   "cell_type": "code",
   "execution_count": null,
   "metadata": {},
   "outputs": [],
   "source": [
    "api = GhApi()"
   ]
  },
  {
   "cell_type": "markdown",
   "metadata": {},
   "source": [
    "Let's call the GitHub API and store the results as a list.\n",
    "The API results are paged, as some of the data you might ask for could be very long, so we just nest a list comprehension to \"flip\" through the pages."
   ]
  },
  {
   "cell_type": "code",
   "execution_count": null,
   "metadata": {},
   "outputs": [],
   "source": [
    "api_data = paged(api.repos.list_for_org, org=\"jupyter\")  # type: ignore\n",
    "jupyter_repos = [r for page in api_data for r in page]"
   ]
  },
  {
   "cell_type": "markdown",
   "metadata": {},
   "source": [
    "## Process and clean the data with `pandas`"
   ]
  },
  {
   "cell_type": "markdown",
   "metadata": {},
   "source": [
    "Lists of dictionaries are ok, but let's make that a `pd.DataFrame` so we can more easily work with the data.\n",
    "Here is also where we can reduce the size of our data by picking out the interesting bits."
   ]
  },
  {
   "cell_type": "code",
   "execution_count": null,
   "metadata": {},
   "outputs": [],
   "source": [
    "interesting_info = [\n",
    "    \"name\",\n",
    "    \"html_url\",\n",
    "    \"description\",\n",
    "    \"homepage\",\n",
    "    \"size\",\n",
    "    \"stargazers_count\",\n",
    "    \"watchers_count\",\n",
    "    \"language\",\n",
    "    \"forks_count\",\n",
    "    \"open_issues_count\",\n",
    "    \"license\",\n",
    "    \"topics\",\n",
    "    \"default_branch\",\n",
    "]\n",
    "\n",
    "jupyter_df = pd.DataFrame(jupyter_repos, columns=interesting_info)"
   ]
  },
  {
   "cell_type": "markdown",
   "metadata": {},
   "source": [
    "Now that the DataFrame is loaded, we can use the variable inspector in VS Code to look at the values, even better than printing out the value here.\n",
    "\n",
    "Let's also use some other tools to explore the data a bit."
   ]
  },
  {
   "cell_type": "code",
   "execution_count": null,
   "metadata": {},
   "outputs": [],
   "source": [
    "# Show stats about numeric columns in the DataFrame\n",
    "jupyter_df.describe()"
   ]
  },
  {
   "cell_type": "code",
   "execution_count": null,
   "metadata": {},
   "outputs": [],
   "source": [
    "jupyter_df.info()"
   ]
  },
  {
   "cell_type": "code",
   "execution_count": null,
   "metadata": {},
   "outputs": [],
   "source": [
    "# The license column is an object, but how can we extract the license info..."
   ]
  },
  {
   "cell_type": "markdown",
   "metadata": {},
   "source": [
    "The license column has dictionary values that would be nice to split out, and get rid of unnecessary info. We can use the autoDocstring extension to help us document the function, and inlay hints can help show inferred missing type hints."
   ]
  },
  {
   "cell_type": "code",
   "execution_count": null,
   "metadata": {},
   "outputs": [],
   "source": [
    "def format_dict_column(data : pd.DataFrame, column : str, mapping : dict):\n",
    "    split_df = pd.json_normalize(data.loc[:,column]).rename(columns = mapping)  # type: ignore\n",
    "    return data.drop(column, axis=1).join(split_df.loc[:,list(mapping.values())])\n",
    "\n",
    "jupyter_df_clean = format_dict_column(jupyter_df, \"license\", {\"key\" : \"license_key\", \"name\" : \"license_name\", \"url\" : \"license_url\"})"
   ]
  },
  {
   "cell_type": "code",
   "execution_count": null,
   "metadata": {},
   "outputs": [],
   "source": [
    "import pandas_profiling\n",
    "# If you only want to look at numeric columns, you can use the following to filter the DataFrame\n",
    "# df_numeric = jupyter_df_clean.select_dtypes(include=np.int64)\n",
    "pandas_profiling.ProfileReport(jupyter_df_clean)# can use minimal=True to reduce output\n"
   ]
  },
  {
   "cell_type": "markdown",
   "metadata": {},
   "source": [
    "## Visualizations"
   ]
  },
  {
   "cell_type": "code",
   "execution_count": null,
   "metadata": {},
   "outputs": [],
   "source": [
    "language_totals = jupyter_df_clean.groupby(\"language\").sum(numeric_only=True).sort_values(\"stargazers_count\", ascending=False)"
   ]
  },
  {
   "cell_type": "code",
   "execution_count": null,
   "metadata": {},
   "outputs": [],
   "source": [
    "language_totals.plot.barh(figsize=(10, 5), fontsize=14)"
   ]
  },
  {
   "cell_type": "markdown",
   "metadata": {},
   "source": [
    "---\n",
    "## Utility"
   ]
  },
  {
   "cell_type": "markdown",
   "metadata": {},
   "source": [
    "Check you GitHub API limits:"
   ]
  },
  {
   "cell_type": "code",
   "execution_count": null,
   "metadata": {},
   "outputs": [],
   "source": [
    "api.rate_limit.get()  # type: ignore"
   ]
  },
  {
   "cell_type": "markdown",
   "metadata": {},
   "source": [
    "If the API limit is reached, load from included csv:"
   ]
  },
  {
   "cell_type": "code",
   "execution_count": null,
   "metadata": {},
   "outputs": [],
   "source": [
    "# If you need to export the DataFrame to a csv file, you can use the following\n",
    "# df.to_csv(\"jupyter_repos.csv\")\n",
    "pd.read_csv(\"jupyter_repos.csv\")"
   ]
  }
 ],
 "metadata": {
  "kernelspec": {
   "display_name": "Python 3.10.0 ('ghstats')",
   "language": "python",
   "name": "python3"
  },
  "language_info": {
   "codemirror_mode": {
    "name": "ipython",
    "version": 3
   },
   "file_extension": ".py",
   "mimetype": "text/x-python",
   "name": "python",
   "nbconvert_exporter": "python",
   "pygments_lexer": "ipython3",
   "version": "3.10.0"
  },
  "orig_nbformat": 4,
  "vscode": {
   "interpreter": {
    "hash": "7d7d3834ef50d8667f4a857ff21406a17e203547445bb91ce6d1564a541d1be8"
   }
  }
 },
 "nbformat": 4,
 "nbformat_minor": 2
}
